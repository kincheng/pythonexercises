{
 "cells": [
  {
   "cell_type": "code",
   "execution_count": 1,
   "metadata": {
    "collapsed": true
   },
   "outputs": [],
   "source": [
    "# https://www.youtube.com/watch?v=0NycEiHOeX8&t=811s\n",
    "import requests\n",
    "import RiotConsts as Consts"
   ]
  },
  {
   "cell_type": "code",
   "execution_count": null,
   "metadata": {
    "collapsed": true
   },
   "outputs": [],
   "source": [
    "class RiotAPI(object):\n",
    "    \n",
    "    def __init__(self, api_key, region=Consts.REGIONS['europe_nordic_and_east']):\n",
    "        self.api_key = api_key\n",
    "        self.region = region\n",
    "        \n",
    "    def _request(self, api_url, params={}):\n",
    "        args = {'api_key': self.api_key}"
   ]
  }
 ],
 "metadata": {
  "kernelspec": {
   "display_name": "Python 3",
   "language": "python",
   "name": "python3"
  },
  "language_info": {
   "codemirror_mode": {
    "name": "ipython",
    "version": 3
   },
   "file_extension": ".py",
   "mimetype": "text/x-python",
   "name": "python",
   "nbconvert_exporter": "python",
   "pygments_lexer": "ipython3",
   "version": "3.6.3"
  }
 },
 "nbformat": 4,
 "nbformat_minor": 2
}

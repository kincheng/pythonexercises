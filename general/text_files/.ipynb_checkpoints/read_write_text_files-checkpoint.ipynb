{
 "cells": [
  {
   "cell_type": "code",
   "execution_count": 1,
   "metadata": {
    "collapsed": true
   },
   "outputs": [],
   "source": [
    "# https://www.youtube.com/watch?v=4mX0uPQFLDU"
   ]
  },
  {
   "cell_type": "code",
   "execution_count": 12,
   "metadata": {},
   "outputs": [],
   "source": [
    "f = open('guido_bio.txt')\n",
    "text = f.read()\n",
    "f.close()"
   ]
  },
  {
   "cell_type": "code",
   "execution_count": 13,
   "metadata": {},
   "outputs": [
    {
     "name": "stdout",
     "output_type": "stream",
     "text": [
      "\"Gawky and proud of it.\"\n",
      "\n",
      "Who I Am\n",
      "Read my \"King's Day Speech\" for some inspiration.\n",
      "\n",
      "I am the author of the Python programming language. See also my resume and my publications list, a brief bio, assorted writings, presentations and interviews (all about Python), some pictures of me, my new blog, and my old blog on Artima.com. I am @gvanrossum on Twitter. I also have a G+ profile.\n",
      "\n",
      "In January 2013 I joined Dropbox. I work on various Dropbox products and have 50% for my Python work, no strings attached. Previously, I have worked for Google, Elemental Security, Zope Corporation, BeOpen.com, CNRI, CWI, and SARA. (See my resume.) I created Python while at CWI.\n",
      "\n",
      "How to Reach Me\n",
      "You can send email for me to guido (at) python.org. I read everything sent there, but if you ask me a question about using Python, it's likely that I won't have time to answer it, and will instead refer you to help (at) python.org, comp.lang.python or StackOverflow. If you need to talk to me on the phone or send me something by snail mail, send me an email and I'll gladly email you instructions on how to reach me.\n",
      "\n",
      "My Name\n",
      "My name often poses difficulties for Americans.\n",
      "\n",
      "Pronunciation: in Dutch, the \"G\" in Guido is a hard G, pronounced roughly like the \"ch\" in Scottish \"loch\". (Listen to the sound clip.) However, if you're American, you may also pronounce it as the Italian \"Guido\". I'm not too worried about the associations with mob assassins that some people have. :-)\n",
      "\n",
      "Spelling: my last name is two words, and I'd like to keep it that way, the spelling on some of my credit cards notwithstanding. Dutch spelling rules dictate that when used in combination with my first name, \"van\" is not capitalized: \"Guido van Rossum\". But when my last name is used alone to refer to me, it is capitalized, for example: \"As usual, Van Rossum was right.\"\n",
      "\n",
      "Alphabetization: in America, I show up in the alphabet under \"V\". But in Europe, I show up under \"R\". And some of my friends put me under \"G\" in their address book...\n",
      "\n",
      "More Hyperlinks\n",
      "Here's a collection of essays relating to Python that I've written, including the foreword I wrote for Mark Lutz' book \"Programming Python\".\n",
      "I own the official  Python license.\n",
      "The Audio File Formats FAQ\n"
     ]
    }
   ],
   "source": [
    "print(text)"
   ]
  },
  {
   "cell_type": "code",
   "execution_count": 14,
   "metadata": {
    "collapsed": true
   },
   "outputs": [],
   "source": [
    "with open('guido_bio.txt') as fobj:\n",
    "    bio = fobj.read()"
   ]
  },
  {
   "cell_type": "code",
   "execution_count": 20,
   "metadata": {},
   "outputs": [
    {
     "name": "stdout",
     "output_type": "stream",
     "text": [
      "None\n"
     ]
    }
   ],
   "source": [
    "''' exception if file is not there'''\n",
    "try:\n",
    "    with open('kin.txt') as goya:\n",
    "        i = goya.read()\n",
    "except FileNotFoundError:\n",
    "    i = None\n",
    "    \n",
    "print(i)"
   ]
  },
  {
   "cell_type": "code",
   "execution_count": 24,
   "metadata": {},
   "outputs": [],
   "source": [
    "oceans = ['pacific', 'atlantic', 'indian', 'southern' , 'artic']\n",
    "\n",
    "with open('oceans.txt', 'w') as f:\n",
    "    for ocean in oceans:\n",
    "        f.write(ocean)\n",
    "        f.write('\\n')\n",
    "        print(ocean, file=f)"
   ]
  },
  {
   "cell_type": "code",
   "execution_count": 29,
   "metadata": {},
   "outputs": [],
   "source": [
    "with open('oceans.txt', 'a') as u:\n",
    "    for ocean in oceans:\n",
    "        u.write(ocean)\n",
    "        u.write('\\n')"
   ]
  },
  {
   "cell_type": "code",
   "execution_count": null,
   "metadata": {
    "collapsed": true
   },
   "outputs": [],
   "source": []
  }
 ],
 "metadata": {
  "kernelspec": {
   "display_name": "Python 3",
   "language": "python",
   "name": "python3"
  },
  "language_info": {
   "codemirror_mode": {
    "name": "ipython",
    "version": 3
   },
   "file_extension": ".py",
   "mimetype": "text/x-python",
   "name": "python",
   "nbconvert_exporter": "python",
   "pygments_lexer": "ipython3",
   "version": "3.6.3"
  }
 },
 "nbformat": 4,
 "nbformat_minor": 2
}

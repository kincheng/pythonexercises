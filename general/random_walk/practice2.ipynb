{
 "cells": [
  {
   "cell_type": "code",
   "execution_count": 49,
   "metadata": {
    "collapsed": true
   },
   "outputs": [],
   "source": [
    "import pandas as pd\n",
    "import random\n",
    "import time"
   ]
  },
  {
   "cell_type": "code",
   "execution_count": 37,
   "metadata": {
    "collapsed": true
   },
   "outputs": [],
   "source": [
    "def random_walk(i):\n",
    "    x = 0\n",
    "    y = 0\n",
    "    for steps in range(i):\n",
    "        direction = random.choice(['N', 'S', 'E', 'W'])\n",
    "        if direction == 'N':\n",
    "            y += 1\n",
    "        elif direction == 'S':\n",
    "            y -= 1\n",
    "        elif direction == 'E':\n",
    "            x += 1\n",
    "        else:\n",
    "            x -= 1\n",
    "    return (x, y)"
   ]
  },
  {
   "cell_type": "code",
   "execution_count": 38,
   "metadata": {},
   "outputs": [
    {
     "data": {
      "text/plain": [
       "(1, -3)"
      ]
     },
     "execution_count": 38,
     "metadata": {},
     "output_type": "execute_result"
    }
   ],
   "source": [
    "random_walk(10)"
   ]
  },
  {
   "cell_type": "code",
   "execution_count": 82,
   "metadata": {},
   "outputs": [
    {
     "name": "stdout",
     "output_type": "stream",
     "text": [
      "Taking 50 journeys with 1 steps will result in 100.0 chance of no Uber\n",
      "Taking 50 journeys with 2 steps will result in 100.0 chance of no Uber\n",
      "Taking 50 journeys with 3 steps will result in 100.0 chance of no Uber\n",
      "Taking 50 journeys with 4 steps will result in 100.0 chance of no Uber\n",
      "Taking 50 journeys with 5 steps will result in 98.0 chance of no Uber\n",
      "Taking 50 journeys with 6 steps will result in 94.0 chance of no Uber\n",
      "Taking 50 journeys with 7 steps will result in 78.0 chance of no Uber\n",
      "Taking 50 journeys with 8 steps will result in 88.0 chance of no Uber\n",
      "Taking 50 journeys with 9 steps will result in 68.0 chance of no Uber\n",
      "Taking 50 journeys with 10 steps will result in 86.0 chance of no Uber\n",
      "Taking 50 journeys with 11 steps will result in 66.0 chance of no Uber\n",
      "Taking 50 journeys with 12 steps will result in 64.0 chance of no Uber\n",
      "Taking 50 journeys with 13 steps will result in 62.0 chance of no Uber\n",
      "Taking 50 journeys with 14 steps will result in 72.0 chance of no Uber\n",
      "Taking 50 journeys with 15 steps will result in 50.0 chance of no Uber\n",
      "Taking 50 journeys with 16 steps will result in 68.0 chance of no Uber\n",
      "Taking 50 journeys with 17 steps will result in 56.0 chance of no Uber\n",
      "Taking 50 journeys with 18 steps will result in 58.0 chance of no Uber\n",
      "Taking 50 journeys with 19 steps will result in 50.0 chance of no Uber\n",
      "Taking 50 journeys with 20 steps will result in 52.0 chance of no Uber\n",
      "Taking 50 journeys with 21 steps will result in 40.0 chance of no Uber\n",
      "Taking 50 journeys with 22 steps will result in 50.0 chance of no Uber\n",
      "Taking 50 journeys with 23 steps will result in 30.0 chance of no Uber\n",
      "Taking 50 journeys with 24 steps will result in 56.0 chance of no Uber\n",
      "Taking 50 journeys with 25 steps will result in 36.0 chance of no Uber\n",
      "Taking 50 journeys with 26 steps will result in 42.0 chance of no Uber\n",
      "Taking 50 journeys with 27 steps will result in 38.0 chance of no Uber\n",
      "Taking 50 journeys with 28 steps will result in 46.0 chance of no Uber\n",
      "Taking 50 journeys with 29 steps will result in 36.0 chance of no Uber\n",
      "Taking 50 journeys with 30 steps will result in 28.0 chance of no Uber\n",
      "Taking 50 journeys with 31 steps will result in 30.0 chance of no Uber\n",
      "Taking 50 journeys with 32 steps will result in 32.0 chance of no Uber\n",
      "Taking 50 journeys with 33 steps will result in 28.0 chance of no Uber\n",
      "Taking 50 journeys with 34 steps will result in 40.0 chance of no Uber\n",
      "Taking 50 journeys with 35 steps will result in 32.0 chance of no Uber\n",
      "Taking 50 journeys with 36 steps will result in 46.0 chance of no Uber\n",
      "Taking 50 journeys with 37 steps will result in 24.0 chance of no Uber\n",
      "Taking 50 journeys with 38 steps will result in 36.0 chance of no Uber\n",
      "Taking 50 journeys with 39 steps will result in 8.0 chance of no Uber\n",
      "Taking 50 journeys with 40 steps will result in 34.0 chance of no Uber\n",
      "Taking 50 journeys with 41 steps will result in 24.0 chance of no Uber\n",
      "Taking 50 journeys with 42 steps will result in 38.0 chance of no Uber\n",
      "Taking 50 journeys with 43 steps will result in 18.0 chance of no Uber\n",
      "Taking 50 journeys with 44 steps will result in 36.0 chance of no Uber\n",
      "Taking 50 journeys with 45 steps will result in 20.0 chance of no Uber\n",
      "Taking 50 journeys with 46 steps will result in 40.0 chance of no Uber\n",
      "Taking 50 journeys with 47 steps will result in 16.0 chance of no Uber\n",
      "Taking 50 journeys with 48 steps will result in 30.0 chance of no Uber\n",
      "Taking 50 journeys with 49 steps will result in 24.0 chance of no Uber\n",
      "Taking 50 journeys with 50 steps will result in 26.0 chance of no Uber\n",
      "Taking 50 journeys with 51 steps will result in 20.0 chance of no Uber\n",
      "Taking 50 journeys with 52 steps will result in 46.0 chance of no Uber\n",
      "Taking 50 journeys with 53 steps will result in 6.0 chance of no Uber\n",
      "Taking 50 journeys with 54 steps will result in 28.0 chance of no Uber\n",
      "Taking 50 journeys with 55 steps will result in 14.0 chance of no Uber\n",
      "Taking 50 journeys with 56 steps will result in 24.0 chance of no Uber\n",
      "Taking 50 journeys with 57 steps will result in 8.0 chance of no Uber\n",
      "Taking 50 journeys with 58 steps will result in 14.0 chance of no Uber\n",
      "Taking 50 journeys with 59 steps will result in 18.0 chance of no Uber\n",
      "Taking 50 journeys with 60 steps will result in 30.0 chance of no Uber\n",
      "Taking 50 journeys with 61 steps will result in 16.0 chance of no Uber\n",
      "Taking 50 journeys with 62 steps will result in 20.0 chance of no Uber\n",
      "Taking 50 journeys with 63 steps will result in 12.0 chance of no Uber\n",
      "Taking 50 journeys with 64 steps will result in 20.0 chance of no Uber\n",
      "Taking 50 journeys with 65 steps will result in 8.0 chance of no Uber\n",
      "Taking 50 journeys with 66 steps will result in 26.0 chance of no Uber\n",
      "Taking 50 journeys with 67 steps will result in 12.0 chance of no Uber\n",
      "Taking 50 journeys with 68 steps will result in 20.0 chance of no Uber\n",
      "Taking 50 journeys with 69 steps will result in 20.0 chance of no Uber\n",
      "Taking 50 journeys with 70 steps will result in 18.0 chance of no Uber\n",
      "Taking 50 journeys with 71 steps will result in 24.0 chance of no Uber\n",
      "Taking 50 journeys with 72 steps will result in 22.0 chance of no Uber\n",
      "Taking 50 journeys with 73 steps will result in 14.0 chance of no Uber\n",
      "Taking 50 journeys with 74 steps will result in 22.0 chance of no Uber\n",
      "Taking 50 journeys with 75 steps will result in 16.0 chance of no Uber\n",
      "Taking 50 journeys with 76 steps will result in 18.0 chance of no Uber\n",
      "Taking 50 journeys with 77 steps will result in 12.0 chance of no Uber\n",
      "Taking 50 journeys with 78 steps will result in 26.0 chance of no Uber\n",
      "Taking 50 journeys with 79 steps will result in 12.0 chance of no Uber\n",
      "Taking 50 journeys with 80 steps will result in 26.0 chance of no Uber\n",
      "Taking 50 journeys with 81 steps will result in 12.0 chance of no Uber\n",
      "Taking 50 journeys with 82 steps will result in 16.0 chance of no Uber\n",
      "Taking 50 journeys with 83 steps will result in 16.0 chance of no Uber\n",
      "Taking 50 journeys with 84 steps will result in 22.0 chance of no Uber\n",
      "Taking 50 journeys with 85 steps will result in 14.0 chance of no Uber\n",
      "Taking 50 journeys with 86 steps will result in 12.0 chance of no Uber\n",
      "Taking 50 journeys with 87 steps will result in 16.0 chance of no Uber\n",
      "Taking 50 journeys with 88 steps will result in 22.0 chance of no Uber\n",
      "Taking 50 journeys with 89 steps will result in 8.0 chance of no Uber\n",
      "Taking 50 journeys with 90 steps will result in 16.0 chance of no Uber\n",
      "Taking 50 journeys with 91 steps will result in 6.0 chance of no Uber\n",
      "Taking 50 journeys with 92 steps will result in 10.0 chance of no Uber\n",
      "Taking 50 journeys with 93 steps will result in 12.0 chance of no Uber\n",
      "Taking 50 journeys with 94 steps will result in 6.0 chance of no Uber\n",
      "Taking 50 journeys with 95 steps will result in 14.0 chance of no Uber\n",
      "Taking 50 journeys with 96 steps will result in 18.0 chance of no Uber\n",
      "Taking 50 journeys with 97 steps will result in 8.0 chance of no Uber\n",
      "Taking 50 journeys with 98 steps will result in 12.0 chance of no Uber\n",
      "Taking 50 journeys with 99 steps will result in 6.0 chance of no Uber\n",
      "0.24 seconds to complete run\n"
     ]
    }
   ],
   "source": [
    "start_time = time.time()\n",
    "journeys = 50\n",
    "for steps in range(1,100):\n",
    "    no_transport = 0\n",
    "    for attempts in range(journeys):\n",
    "        x, y = random_walk(steps)\n",
    "        if abs(x) + abs(y) <= 4:\n",
    "            no_transport +=1\n",
    "    no_transport_percentage = no_transport / journeys\n",
    "    print('Taking', journeys, 'journeys', 'with', steps, 'steps will result in', round(no_transport_percentage*100, 2), 'chance of no Uber')\n",
    "end_time = time.time()\n",
    "print(round(end_time - start_time, 2), 'seconds to complete run')"
   ]
  },
  {
   "cell_type": "code",
   "execution_count": null,
   "metadata": {
    "collapsed": true
   },
   "outputs": [],
   "source": []
  }
 ],
 "metadata": {
  "kernelspec": {
   "display_name": "Python 3",
   "language": "python",
   "name": "python3"
  },
  "language_info": {
   "codemirror_mode": {
    "name": "ipython",
    "version": 3
   },
   "file_extension": ".py",
   "mimetype": "text/x-python",
   "name": "python",
   "nbconvert_exporter": "python",
   "pygments_lexer": "ipython3",
   "version": "3.6.3"
  }
 },
 "nbformat": 4,
 "nbformat_minor": 2
}

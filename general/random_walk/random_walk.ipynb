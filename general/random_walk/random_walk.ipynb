{
 "cells": [
  {
   "cell_type": "code",
   "execution_count": 1,
   "metadata": {
    "collapsed": true
   },
   "outputs": [],
   "source": [
    "# https://www.youtube.com/watch?v=BfS2H1y6tzQ\n",
    "import random"
   ]
  },
  {
   "cell_type": "code",
   "execution_count": 82,
   "metadata": {
    "collapsed": true
   },
   "outputs": [],
   "source": [
    "def random_walk(n):\n",
    "    '''returns a tuple of x and y coordinates'''\n",
    "    y = 0\n",
    "    x = 0\n",
    "    for i in range(n):\n",
    "        walk = random.choice(['n', 's', 'e', 'w'])\n",
    "        if walk == 'n':\n",
    "            y += 1\n",
    "        elif walk == 's':\n",
    "            y -= 1\n",
    "        elif walk == 'e':\n",
    "            x += 1\n",
    "        else:\n",
    "            x -= 1\n",
    "    return (x,y)            "
   ]
  },
  {
   "cell_type": "code",
   "execution_count": 83,
   "metadata": {},
   "outputs": [
    {
     "data": {
      "text/plain": [
       "(4, -2)"
      ]
     },
     "execution_count": 83,
     "metadata": {},
     "output_type": "execute_result"
    }
   ],
   "source": [
    "random_walk(10)"
   ]
  },
  {
   "cell_type": "code",
   "execution_count": 91,
   "metadata": {},
   "outputs": [
    {
     "name": "stdout",
     "output_type": "stream",
     "text": [
      "(-1, 1) Distance from home =  0\n",
      "(0, -2) Distance from home =  2\n",
      "(0, 2) Distance from home =  2\n",
      "(2, -2) Distance from home =  4\n",
      "(3, 1) Distance from home =  4\n",
      "(1, -3) Distance from home =  4\n",
      "(0, -4) Distance from home =  4\n",
      "(-3, -1) Distance from home =  2\n",
      "(0, 2) Distance from home =  2\n",
      "(1, 1) Distance from home =  2\n"
     ]
    }
   ],
   "source": [
    "for i in range(10):\n",
    "    walk = random_walk(10)\n",
    "    print(walk, 'Distance from home = ', abs(walk[0] + abs(walk[1])))"
   ]
  },
  {
   "cell_type": "code",
   "execution_count": 102,
   "metadata": {},
   "outputs": [
    {
     "name": "stdout",
     "output_type": "stream",
     "text": [
      "Walk size =  1  / % of no transport =  100.0\n",
      "Walk size =  2  / % of no transport =  100.0\n",
      "Walk size =  3  / % of no transport =  100.0\n",
      "Walk size =  4  / % of no transport =  100.0\n",
      "Walk size =  5  / % of no transport =  88.8\n",
      "Walk size =  6  / % of no transport =  94.6\n",
      "Walk size =  7  / % of no transport =  75.6\n",
      "Walk size =  8  / % of no transport =  84.8\n",
      "Walk size =  9  / % of no transport =  68.0\n",
      "Walk size =  10  / % of no transport =  78.8\n",
      "Walk size =  11  / % of no transport =  58.199999999999996\n",
      "Walk size =  12  / % of no transport =  73.8\n",
      "Walk size =  13  / % of no transport =  50.2\n",
      "Walk size =  14  / % of no transport =  67.4\n",
      "Walk size =  15  / % of no transport =  52.400000000000006\n",
      "Walk size =  16  / % of no transport =  63.0\n",
      "Walk size =  17  / % of no transport =  49.8\n",
      "Walk size =  18  / % of no transport =  57.4\n",
      "Walk size =  19  / % of no transport =  41.6\n",
      "Walk size =  20  / % of no transport =  50.8\n",
      "Walk size =  21  / % of no transport =  35.6\n",
      "Walk size =  22  / % of no transport =  47.199999999999996\n",
      "Walk size =  23  / % of no transport =  35.8\n",
      "Walk size =  24  / % of no transport =  48.8\n",
      "Walk size =  25  / % of no transport =  32.6\n",
      "Walk size =  26  / % of no transport =  42.6\n",
      "Walk size =  27  / % of no transport =  34.4\n",
      "Walk size =  28  / % of no transport =  43.4\n",
      "Walk size =  29  / % of no transport =  31.4\n",
      "Walk size =  30  / % of no transport =  42.6\n"
     ]
    }
   ],
   "source": [
    "number_of_walks = 500\n",
    "for walk_length in range(1, 31):\n",
    "    no_transport = 0\n",
    "    for i in range(number_of_walks):\n",
    "        (x, y) = random_walk(walk_length)\n",
    "        distance = abs(x) + abs(y)\n",
    "        if distance <=4:\n",
    "            no_transport += 1\n",
    "    no_transport_percentage = float(no_transport) / number_of_walks\n",
    "    print('Walk size = ', walk_length, ' / % of no transport = ', 100*no_transport_percentage)"
   ]
  },
  {
   "cell_type": "code",
   "execution_count": null,
   "metadata": {
    "collapsed": true
   },
   "outputs": [],
   "source": []
  }
 ],
 "metadata": {
  "kernelspec": {
   "display_name": "Python 3",
   "language": "python",
   "name": "python3"
  },
  "language_info": {
   "codemirror_mode": {
    "name": "ipython",
    "version": 3
   },
   "file_extension": ".py",
   "mimetype": "text/x-python",
   "name": "python",
   "nbconvert_exporter": "python",
   "pygments_lexer": "ipython3",
   "version": "3.6.3"
  }
 },
 "nbformat": 4,
 "nbformat_minor": 2
}

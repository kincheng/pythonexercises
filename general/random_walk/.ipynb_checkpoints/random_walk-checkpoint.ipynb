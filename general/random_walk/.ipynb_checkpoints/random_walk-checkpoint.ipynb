{
 "cells": [
  {
   "cell_type": "code",
   "execution_count": 1,
   "metadata": {
    "collapsed": true
   },
   "outputs": [],
   "source": [
    "import random"
   ]
  },
  {
   "cell_type": "code",
   "execution_count": 82,
   "metadata": {},
   "outputs": [],
   "source": [
    "def random_walk(n):\n",
    "    '''returns a tuple of x and y coordinates'''\n",
    "    y = 0\n",
    "    x = 0\n",
    "    for i in range(n):\n",
    "        walk = random.choice(['n', 's', 'e', 'w'])\n",
    "        if walk == 'n':\n",
    "            y += 1\n",
    "        elif walk == 's':\n",
    "            y -= 1\n",
    "        elif walk == 'e':\n",
    "            x += 1\n",
    "        else:\n",
    "            x -= 1\n",
    "    return (x,y)            "
   ]
  },
  {
   "cell_type": "code",
   "execution_count": 83,
   "metadata": {},
   "outputs": [
    {
     "data": {
      "text/plain": [
       "(4, -2)"
      ]
     },
     "execution_count": 83,
     "metadata": {},
     "output_type": "execute_result"
    }
   ],
   "source": [
    "random_walk(10)"
   ]
  },
  {
   "cell_type": "code",
   "execution_count": 91,
   "metadata": {},
   "outputs": [
    {
     "name": "stdout",
     "output_type": "stream",
     "text": [
      "(-1, 1) Distance from home =  0\n",
      "(0, -2) Distance from home =  2\n",
      "(0, 2) Distance from home =  2\n",
      "(2, -2) Distance from home =  4\n",
      "(3, 1) Distance from home =  4\n",
      "(1, -3) Distance from home =  4\n",
      "(0, -4) Distance from home =  4\n",
      "(-3, -1) Distance from home =  2\n",
      "(0, 2) Distance from home =  2\n",
      "(1, 1) Distance from home =  2\n"
     ]
    }
   ],
   "source": [
    "for i in range(10):\n",
    "    walk = random_walk(10)\n",
    "    print(walk, 'Distance from home = ', abs(walk[0] + abs(walk[1])))"
   ]
  },
  {
   "cell_type": "code",
   "execution_count": 101,
   "metadata": {},
   "outputs": [
    {
     "name": "stdout",
     "output_type": "stream",
     "text": [
      "Walk size =  1  / % of no transport =  100.0\n",
      "Walk size =  2  / % of no transport =  100.0\n",
      "Walk size =  3  / % of no transport =  100.0\n",
      "Walk size =  4  / % of no transport =  100.0\n",
      "Walk size =  5  / % of no transport =  87.95666666666668\n",
      "Walk size =  6  / % of no transport =  93.71000000000001\n",
      "Walk size =  7  / % of no transport =  76.28666666666668\n",
      "Walk size =  8  / % of no transport =  86.8\n",
      "Walk size =  9  / % of no transport =  67.34333333333333\n",
      "Walk size =  10  / % of no transport =  79.29666666666667\n",
      "Walk size =  11  / % of no transport =  59.99666666666666\n",
      "Walk size =  12  / % of no transport =  72.81\n",
      "Walk size =  13  / % of no transport =  53.56333333333333\n",
      "Walk size =  14  / % of no transport =  67.58999999999999\n",
      "Walk size =  15  / % of no transport =  48.74666666666666\n",
      "Walk size =  16  / % of no transport =  62.32666666666666\n",
      "Walk size =  17  / % of no transport =  44.68333333333334\n",
      "Walk size =  18  / % of no transport =  58.13\n",
      "Walk size =  19  / % of no transport =  41.45666666666667\n",
      "Walk size =  20  / % of no transport =  54.70333333333334\n",
      "Walk size =  21  / % of no transport =  38.00333333333333\n",
      "Walk size =  22  / % of no transport =  50.953333333333326\n",
      "Walk size =  23  / % of no transport =  35.72\n",
      "Walk size =  24  / % of no transport =  48.013333333333335\n",
      "Walk size =  25  / % of no transport =  33.22666666666667\n",
      "Walk size =  26  / % of no transport =  45.57333333333333\n",
      "Walk size =  27  / % of no transport =  31.16\n",
      "Walk size =  28  / % of no transport =  42.82\n",
      "Walk size =  29  / % of no transport =  29.513333333333335\n",
      "Walk size =  30  / % of no transport =  40.57333333333333\n"
     ]
    }
   ],
   "source": [
    "number_of_walks = 30000\n",
    "for walk_length in range(1, 31):\n",
    "    no_transport = 0\n",
    "    for i in range(number_of_walks):\n",
    "        (x, y) = random_walk(walk_length)\n",
    "        distance = abs(x) + abs(y)\n",
    "        if distance <=4:\n",
    "            no_transport += 1\n",
    "    no_transport_percentage = float(no_transport) / number_of_walks\n",
    "    print('Walk size = ', walk_length, ' / % of no transport = ', 100*no_transport_percentage)"
   ]
  },
  {
   "cell_type": "code",
   "execution_count": null,
   "metadata": {
    "collapsed": true
   },
   "outputs": [],
   "source": []
  }
 ],
 "metadata": {
  "kernelspec": {
   "display_name": "Python 3",
   "language": "python",
   "name": "python3"
  },
  "language_info": {
   "codemirror_mode": {
    "name": "ipython",
    "version": 3
   },
   "file_extension": ".py",
   "mimetype": "text/x-python",
   "name": "python",
   "nbconvert_exporter": "python",
   "pygments_lexer": "ipython3",
   "version": "3.6.3"
  }
 },
 "nbformat": 4,
 "nbformat_minor": 2
}

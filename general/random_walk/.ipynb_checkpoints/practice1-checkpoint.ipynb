{
 "cells": [
  {
   "cell_type": "code",
   "execution_count": 1,
   "metadata": {
    "collapsed": true
   },
   "outputs": [],
   "source": [
    "import pandas as pd\n",
    "import random"
   ]
  },
  {
   "cell_type": "code",
   "execution_count": 14,
   "metadata": {
    "collapsed": true
   },
   "outputs": [],
   "source": [
    "\n",
    "\n",
    "def random_walk(i):\n",
    "    x = 0\n",
    "    y = 0\n",
    "    for steps in range(i):\n",
    "        direction = random.choice(['N', 'S', 'E', 'W'])\n",
    "        if direction == 'N':\n",
    "            y += 1\n",
    "        elif direction == 'S':\n",
    "            y -= 1\n",
    "        elif direction == 'E':\n",
    "            x += 1\n",
    "        else:\n",
    "            x -= 1\n",
    "    return (x, y)"
   ]
  },
  {
   "cell_type": "code",
   "execution_count": 15,
   "metadata": {},
   "outputs": [
    {
     "data": {
      "text/plain": [
       "(4, -4)"
      ]
     },
     "execution_count": 15,
     "metadata": {},
     "output_type": "execute_result"
    }
   ],
   "source": [
    "random_walk(10)"
   ]
  },
  {
   "cell_type": "code",
   "execution_count": 26,
   "metadata": {},
   "outputs": [
    {
     "name": "stdout",
     "output_type": "stream",
     "text": [
      "(-1, -1) This equates to  2  steps away from home\n",
      "(-1, -3) This equates to  4  steps away from home\n",
      "(1, 1) This equates to  2  steps away from home\n",
      "(1, -1) This equates to  2  steps away from home\n",
      "(2, 0) This equates to  2  steps away from home\n",
      "(2, -2) This equates to  4  steps away from home\n",
      "(0, 2) This equates to  2  steps away from home\n",
      "(-2, 0) This equates to  2  steps away from home\n",
      "(3, 1) This equates to  4  steps away from home\n",
      "(4, 0) This equates to  4  steps away from home\n"
     ]
    }
   ],
   "source": [
    "for i in range(10):\n",
    "    walk = random_walk(10)\n",
    "    print(walk, 'This equates to ', abs(walk[0]) + abs(walk[1]), ' steps away from home')"
   ]
  },
  {
   "cell_type": "code",
   "execution_count": 33,
   "metadata": {},
   "outputs": [
    {
     "name": "stdout",
     "output_type": "stream",
     "text": [
      "Walk size =  1  / % of no transport =  100.0\n",
      "Walk size =  2  / % of no transport =  100.0\n",
      "Walk size =  3  / % of no transport =  100.0\n",
      "Walk size =  4  / % of no transport =  100.0\n",
      "Walk size =  5  / % of no transport =  87.62\n",
      "Walk size =  6  / % of no transport =  93.89999999999999\n",
      "Walk size =  7  / % of no transport =  76.39\n",
      "Walk size =  8  / % of no transport =  86.6\n",
      "Walk size =  9  / % of no transport =  67.80000000000001\n",
      "Walk size =  10  / % of no transport =  79.14999999999999\n",
      "Walk size =  11  / % of no transport =  59.89\n",
      "Walk size =  12  / % of no transport =  72.76\n",
      "Walk size =  13  / % of no transport =  54.949999999999996\n",
      "Walk size =  14  / % of no transport =  67.09\n",
      "Walk size =  15  / % of no transport =  49.29\n",
      "Walk size =  16  / % of no transport =  62.96000000000001\n",
      "Walk size =  17  / % of no transport =  44.629999999999995\n",
      "Walk size =  18  / % of no transport =  57.14\n",
      "Walk size =  19  / % of no transport =  40.38\n",
      "Walk size =  20  / % of no transport =  54.190000000000005\n",
      "Walk size =  21  / % of no transport =  38.54\n",
      "Walk size =  22  / % of no transport =  51.38\n",
      "Walk size =  23  / % of no transport =  35.5\n",
      "Walk size =  24  / % of no transport =  48.53\n",
      "Walk size =  25  / % of no transport =  34.260000000000005\n",
      "Walk size =  26  / % of no transport =  46.28\n",
      "Walk size =  27  / % of no transport =  30.959999999999997\n",
      "Walk size =  28  / % of no transport =  42.26\n",
      "Walk size =  29  / % of no transport =  29.110000000000003\n",
      "Walk size =  30  / % of no transport =  40.35\n"
     ]
    }
   ],
   "source": [
    "number_of_walks = 10000\n",
    "for walk_length in range(1, 31):\n",
    "    no_transport = 0\n",
    "    for i in range(number_of_walks):\n",
    "        (x, y) = random_walk(walk_length)\n",
    "        distance = abs(x) + abs(y)\n",
    "        if distance <= 4:\n",
    "            no_transport += 1\n",
    "    no_transport_percentage = no_transport / number_of_walks\n",
    "    print('Walk size = ', walk_length, ' / % of no transport = ', no_transport_percentage*100)"
   ]
  },
  {
   "cell_type": "code",
   "execution_count": null,
   "metadata": {
    "collapsed": true
   },
   "outputs": [],
   "source": []
  }
 ],
 "metadata": {
  "kernelspec": {
   "display_name": "Python 3",
   "language": "python",
   "name": "python3"
  },
  "language_info": {
   "codemirror_mode": {
    "name": "ipython",
    "version": 3
   },
   "file_extension": ".py",
   "mimetype": "text/x-python",
   "name": "python",
   "nbconvert_exporter": "python",
   "pygments_lexer": "ipython3",
   "version": "3.6.3"
  }
 },
 "nbformat": 4,
 "nbformat_minor": 2
}

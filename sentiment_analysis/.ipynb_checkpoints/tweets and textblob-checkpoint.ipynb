{
 "cells": [
  {
   "cell_type": "markdown",
   "metadata": {},
   "source": [
    "# Twitter sentiment analysis for Comcast and Verizon"
   ]
  },
  {
   "cell_type": "code",
   "execution_count": 1,
   "metadata": {
    "collapsed": true
   },
   "outputs": [],
   "source": [
    "# importing libraries\n",
    "import tweepy\n",
    "import string\n",
    "from textblob import TextBlob"
   ]
  },
  {
   "cell_type": "code",
   "execution_count": 2,
   "metadata": {
    "collapsed": true
   },
   "outputs": [],
   "source": [
    "# Twitter developer credentials\n",
    "consumer_key = 'kskDr7k78YIQ54eVO4lGceBRE'\n",
    "consumer_key_secret = '70axBXN4COnpVt6Dv39YfvBHq6v4gY5hQ4Gj9vUjucQL3W2fos'\n",
    "access_token = '614468560-naWopOaNc8X0VWNSG1b9ZfLheghEY57rlo0aPwGq'\n",
    "access_token_secret = '64EuhvU6kLRj8Rt1FR0qGNORfmK4X9NfjwkhgeQIcoGhy'"
   ]
  },
  {
   "cell_type": "code",
   "execution_count": 3,
   "metadata": {
    "collapsed": true
   },
   "outputs": [],
   "source": [
    "# authentication\n",
    "auth = tweepy.OAuthHandler(consumer_key, consumer_key_secret)\n",
    "auth.set_access_token(access_token, access_token_secret)\n",
    "api = tweepy.API(auth)"
   ]
  },
  {
   "cell_type": "code",
   "execution_count": 4,
   "metadata": {},
   "outputs": [
    {
     "name": "stdout",
     "output_type": "stream",
     "text": [
      "number of tweets extracted: 5\n",
      "rt aitech comcast buys bluvector an ai cybersecurity firm httpstcowfbcg5y7fp httpstcor1affvtpgx\n",
      "Sentiment(polarity=-0.2, subjectivity=0.4)\n",
      "\n",
      "\n",
      "rt drjimmystar check our the jimmystarshow with ron russell on comcast on demand through the galaxyglobaltv network httpstcoxmngl…\n",
      "Sentiment(polarity=0.0, subjectivity=0.0)\n",
      "\n",
      "\n",
      "my mom really switched to verizon then back to comcast for 2 weeks for no reason 😂🤦🏿‍♂️\n",
      "Sentiment(polarity=0.1, subjectivity=0.1)\n",
      "\n",
      "\n",
      "thenatlasspoke dieseldiver thehill im on founders tier 4995month for life\n",
      "\n",
      "comcasts gb plan is 70month… httpstcoyibrkhn02e\n",
      "Sentiment(polarity=0.0, subjectivity=0.0)\n",
      "\n",
      "\n",
      "rt augieduke coming out march5th itunes amazon googleplay vudu sonydigitalstores vubiquity comcast spectrum verizon dish att…\n",
      "Sentiment(polarity=0.0, subjectivity=0.0)\n",
      "\n",
      "\n"
     ]
    }
   ],
   "source": [
    "# Example of five recent tweets on the term Comcast\n",
    "searchTerm = \"Comcast\"\n",
    "numberOfTweets = 5\n",
    "public_tweets = api.search(searchTerm, count=numberOfTweets, lang='en')\n",
    "print('number of tweets extracted: '+ str(len(public_tweets)))\n",
    "for tweet in public_tweets:\n",
    "    nopunc = [char.lower() for char in tweet.text if char not in string.punctuation]\n",
    "    nopunc = ''.join(nopunc)\n",
    "    print(nopunc)\n",
    "    analysis = TextBlob(nopunc)\n",
    "    print(analysis.sentiment)\n",
    "    print('\\n')"
   ]
  },
  {
   "cell_type": "code",
   "execution_count": 7,
   "metadata": {},
   "outputs": [
    {
     "name": "stdout",
     "output_type": "stream",
     "text": [
      "number of tweets about Comcast extracted: 100\n",
      "positive tweets 26\n",
      "neutral tweets 53\n",
      "negative tweets 21\n"
     ]
    }
   ],
   "source": [
    "# Analyzing 100 recent tweets on the term Comcast and categorizing them based on polarity\n",
    "positive = 0\n",
    "neutral = 0\n",
    "negative = 0\n",
    "\n",
    "searchTerm = \"Comcast\"\n",
    "numberOfTweets = 100\n",
    "public_tweets = api.search(searchTerm, count=numberOfTweets, lang='en')\n",
    "print('number of tweets about Comcast extracted: '+ str(len(public_tweets)))\n",
    "for tweet in public_tweets:\n",
    "    nopunc = [char.lower() for char in tweet.text if char not in string.punctuation]\n",
    "    nopunc = ''.join(nopunc)\n",
    "    analysis = TextBlob(nopunc)\n",
    "    if analysis.polarity > 0:\n",
    "        positive += 1\n",
    "    elif analysis.polarity == 0:\n",
    "        neutral += 1\n",
    "    elif analysis.polarity <0:\n",
    "        negative += 1\n",
    "        \n",
    "print('positive tweets', positive)\n",
    "print('neutral tweets', neutral)\n",
    "print('negative tweets', negative)"
   ]
  },
  {
   "cell_type": "code",
   "execution_count": 8,
   "metadata": {},
   "outputs": [
    {
     "name": "stdout",
     "output_type": "stream",
     "text": [
      "number of tweets Verizon extracted: 100\n",
      "positive tweets 39\n",
      "neutral tweets 51\n",
      "negative tweets 10\n"
     ]
    }
   ],
   "source": [
    "# Analyzing 100 recent tweets on the term Verizon and categorizing them based on polarity\n",
    "positive = 0\n",
    "neutral = 0\n",
    "negative = 0\n",
    "\n",
    "searchTerm = \"Verizon\"\n",
    "numberOfTweets = 100\n",
    "public_tweets = api.search(searchTerm, count=numberOfTweets, lang='en')\n",
    "print('number of tweets Verizon extracted: '+ str(len(public_tweets)))\n",
    "for tweet in public_tweets:\n",
    "    nopunc = [char.lower() for char in tweet.text if char not in string.punctuation]\n",
    "    nopunc = ''.join(nopunc)\n",
    "    analysis = TextBlob(nopunc)\n",
    "    if analysis.polarity > 0:\n",
    "        positive += 1\n",
    "    elif analysis.polarity == 0:\n",
    "        neutral += 1\n",
    "    elif analysis.polarity <0:\n",
    "        negative += 1\n",
    "        \n",
    "print('positive tweets', positive)\n",
    "print('neutral tweets', neutral)\n",
    "print('negative tweets', negative)"
   ]
  }
 ],
 "metadata": {
  "kernelspec": {
   "display_name": "Python 3",
   "language": "python",
   "name": "python3"
  },
  "language_info": {
   "codemirror_mode": {
    "name": "ipython",
    "version": 3
   },
   "file_extension": ".py",
   "mimetype": "text/x-python",
   "name": "python",
   "nbconvert_exporter": "python",
   "pygments_lexer": "ipython3",
   "version": "3.6.3"
  }
 },
 "nbformat": 4,
 "nbformat_minor": 2
}

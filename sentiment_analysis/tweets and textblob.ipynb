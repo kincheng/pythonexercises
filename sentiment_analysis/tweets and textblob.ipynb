{
 "cells": [
  {
   "cell_type": "code",
   "execution_count": 113,
   "metadata": {},
   "outputs": [],
   "source": [
    "import tweepy\n",
    "import string\n",
    "from textblob import TextBlob"
   ]
  },
  {
   "cell_type": "code",
   "execution_count": 36,
   "metadata": {
    "collapsed": true
   },
   "outputs": [],
   "source": [
    "consumer_key = 'kskDr7k78YIQ54eVO4lGceBRE'\n",
    "consumer_key_secret = '70axBXN4COnpVt6Dv39YfvBHq6v4gY5hQ4Gj9vUjucQL3W2fos'\n",
    "access_token = '614468560-naWopOaNc8X0VWNSG1b9ZfLheghEY57rlo0aPwGq'\n",
    "access_token_secret = '64EuhvU6kLRj8Rt1FR0qGNORfmK4X9NfjwkhgeQIcoGhy'"
   ]
  },
  {
   "cell_type": "code",
   "execution_count": 48,
   "metadata": {
    "collapsed": true
   },
   "outputs": [],
   "source": [
    "auth = tweepy.OAuthHandler(consumer_key, consumer_key_secret)\n",
    "auth.set_access_token(access_token, access_token_secret)\n",
    "api = tweepy.API(auth)"
   ]
  },
  {
   "cell_type": "code",
   "execution_count": 119,
   "metadata": {},
   "outputs": [
    {
     "name": "stdout",
     "output_type": "stream",
     "text": [
      "number of tweets extracted: 5\n",
      "rt arstechnica comcast set mobile pins to “0000” helping attackers steal phone numbers httpstco5u0l1c9i3u by jbrodkin\n",
      "Sentiment(polarity=0.0, subjectivity=0.0)\n",
      "\n",
      "\n",
      "comcastcares comcast xfinity 3 out of the last 3 days i’ve had connection issues requiring unplugging my gateway… httpstcotg3dx3nmfn\n",
      "Sentiment(polarity=0.0, subjectivity=0.06666666666666667)\n",
      "\n",
      "\n",
      "geico   acura always arbys comcast stop advertising on faux news\n",
      "Sentiment(polarity=0.0, subjectivity=0.0)\n",
      "\n",
      "\n",
      "realdonaldtrump sally wont sign off so 15 days later she becomes the head of the sec and i found out the same ha… httpstcok3adgazrit\n",
      "Sentiment(polarity=-0.03333333333333333, subjectivity=0.24166666666666667)\n",
      "\n",
      "\n",
      "i say its the squad comcast is one of human existence\n",
      "Sentiment(polarity=0.0, subjectivity=0.1)\n",
      "\n",
      "\n"
     ]
    }
   ],
   "source": [
    "searchTerm = \"Comcast\"\n",
    "numberOfTweets = 5\n",
    "public_tweets = api.search(searchTerm, count=numberOfTweets, lang='en')\n",
    "print('number of tweets extracted: '+ str(len(public_tweets)))\n",
    "for tweet in public_tweets:\n",
    "    nopunc = [char.lower() for char in tweet.text if char not in string.punctuation]\n",
    "    nopunc = ''.join(nopunc)\n",
    "    print(nopunc)\n",
    "    analysis = TextBlob(nopunc)\n",
    "    print(analysis.sentiment)\n",
    "    print('\\n')"
   ]
  },
  {
   "cell_type": "code",
   "execution_count": 117,
   "metadata": {},
   "outputs": [
    {
     "name": "stdout",
     "output_type": "stream",
     "text": [
      "number of tweets about Comcast extracted: 100\n",
      "positive tweets 25\n",
      "neutral tweets 59\n",
      "negative tweets 16\n"
     ]
    }
   ],
   "source": [
    "positive = 0\n",
    "neutral = 0\n",
    "negative = 0\n",
    "\n",
    "searchTerm = \"Comcast\"\n",
    "numberOfTweets = 100\n",
    "public_tweets = api.search(searchTerm, count=numberOfTweets, lang='en')\n",
    "print('number of tweets about Comcast extracted: '+ str(len(public_tweets)))\n",
    "for tweet in public_tweets:\n",
    "    nopunc = [char.lower() for char in tweet.text if char not in string.punctuation]\n",
    "    nopunc = ''.join(nopunc)\n",
    "    analysis = TextBlob(nopunc)\n",
    "    if analysis.polarity > 0:\n",
    "        positive += 1\n",
    "    elif analysis.polarity == 0:\n",
    "        neutral += 1\n",
    "    elif analysis.polarity <0:\n",
    "        negative += 1\n",
    "        \n",
    "print('positive tweets', positive)\n",
    "print('neutral tweets', neutral)\n",
    "print('negative tweets', negative)"
   ]
  },
  {
   "cell_type": "code",
   "execution_count": 118,
   "metadata": {},
   "outputs": [
    {
     "name": "stdout",
     "output_type": "stream",
     "text": [
      "number of tweets Verizon extracted: 100\n",
      "positive tweets 38\n",
      "neutral tweets 39\n",
      "negative tweets 23\n"
     ]
    }
   ],
   "source": [
    "positive = 0\n",
    "neutral = 0\n",
    "negative = 0\n",
    "\n",
    "searchTerm = \"Verizon\"\n",
    "numberOfTweets = 100\n",
    "public_tweets = api.search(searchTerm, count=numberOfTweets, lang='en')\n",
    "print('number of tweets Verizon extracted: '+ str(len(public_tweets)))\n",
    "for tweet in public_tweets:\n",
    "    nopunc = [char.lower() for char in tweet.text if char not in string.punctuation]\n",
    "    nopunc = ''.join(nopunc)\n",
    "    analysis = TextBlob(nopunc)\n",
    "    if analysis.polarity > 0:\n",
    "        positive += 1\n",
    "    elif analysis.polarity == 0:\n",
    "        neutral += 1\n",
    "    elif analysis.polarity <0:\n",
    "        negative += 1\n",
    "        \n",
    "print('positive tweets', positive)\n",
    "print('neutral tweets', neutral)\n",
    "print('negative tweets', negative)"
   ]
  },
  {
   "cell_type": "code",
   "execution_count": null,
   "metadata": {},
   "outputs": [],
   "source": []
  }
 ],
 "metadata": {
  "kernelspec": {
   "display_name": "Python 3",
   "language": "python",
   "name": "python3"
  },
  "language_info": {
   "codemirror_mode": {
    "name": "ipython",
    "version": 3
   },
   "file_extension": ".py",
   "mimetype": "text/x-python",
   "name": "python",
   "nbconvert_exporter": "python",
   "pygments_lexer": "ipython3",
   "version": "3.6.3"
  }
 },
 "nbformat": 4,
 "nbformat_minor": 2
}

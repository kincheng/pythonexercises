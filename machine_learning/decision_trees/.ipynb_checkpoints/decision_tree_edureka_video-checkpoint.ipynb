{
 "cells": [
  {
   "cell_type": "code",
   "execution_count": 1,
   "metadata": {
    "collapsed": true
   },
   "outputs": [],
   "source": [
    "# excerise is from edureka! https://www.youtube.com/watch?v=qDcl-FRnwSU\n",
    "\n",
    "# decision trees - decisions based on some conditions\n",
    "# random forest - collection of decision trees to get better results. need a large dataset. \n",
    "# naive bayes - better for smaller datasets. assumes that the presence of a particular feaure in a class is unrelated to other features\n",
    "# KNN - stores all the available cases and classifies new cases based on a similarity measure. identifies patterns\n",
    "\n",
    "# decision tree is a graphical representation of all the possible solutions to a decision based on certain conditions.\n",
    "# root node > decision nodes > leaf nodes. best example of decision tree is a phone routing sytem\n",
    "# root node represents the entire population or sample and gets divided into two or more homogenous sets\n",
    "# leaf node can not be further segregated into further nodes\n",
    "# splitting is dividing the root/sub node itno different parts\n",
    "# formed by splitting the tree/node\n",
    "# pruning opposite of splitting. removing unwanted branches from the tree\n",
    "# parent/child which is root to non-root"
   ]
  },
  {
   "cell_type": "code",
   "execution_count": 2,
   "metadata": {
    "collapsed": true
   },
   "outputs": [],
   "source": [
    "import pandas as pd\n",
    "import numpy as np"
   ]
  },
  {
   "cell_type": "code",
   "execution_count": 5,
   "metadata": {},
   "outputs": [
    {
     "data": {
      "text/html": [
       "<div>\n",
       "<style scoped>\n",
       "    .dataframe tbody tr th:only-of-type {\n",
       "        vertical-align: middle;\n",
       "    }\n",
       "\n",
       "    .dataframe tbody tr th {\n",
       "        vertical-align: top;\n",
       "    }\n",
       "\n",
       "    .dataframe thead th {\n",
       "        text-align: right;\n",
       "    }\n",
       "</style>\n",
       "<table border=\"1\" class=\"dataframe\">\n",
       "  <thead>\n",
       "    <tr style=\"text-align: right;\">\n",
       "      <th></th>\n",
       "      <th>color</th>\n",
       "      <th>diameter</th>\n",
       "      <th>label</th>\n",
       "    </tr>\n",
       "  </thead>\n",
       "  <tbody>\n",
       "    <tr>\n",
       "      <th>0</th>\n",
       "      <td>green</td>\n",
       "      <td>3</td>\n",
       "      <td>mango</td>\n",
       "    </tr>\n",
       "    <tr>\n",
       "      <th>1</th>\n",
       "      <td>yellow</td>\n",
       "      <td>3</td>\n",
       "      <td>mango</td>\n",
       "    </tr>\n",
       "    <tr>\n",
       "      <th>2</th>\n",
       "      <td>red</td>\n",
       "      <td>1</td>\n",
       "      <td>grape</td>\n",
       "    </tr>\n",
       "    <tr>\n",
       "      <th>3</th>\n",
       "      <td>red</td>\n",
       "      <td>1</td>\n",
       "      <td>grape</td>\n",
       "    </tr>\n",
       "    <tr>\n",
       "      <th>4</th>\n",
       "      <td>yellow</td>\n",
       "      <td>3</td>\n",
       "      <td>lemon</td>\n",
       "    </tr>\n",
       "  </tbody>\n",
       "</table>\n",
       "</div>"
      ],
      "text/plain": [
       "    color  diameter  label\n",
       "0   green         3  mango\n",
       "1  yellow         3  mango\n",
       "2     red         1  grape\n",
       "3     red         1  grape\n",
       "4  yellow         3  lemon"
      ]
     },
     "execution_count": 5,
     "metadata": {},
     "output_type": "execute_result"
    }
   ],
   "source": [
    "# table from 14:08 in video\n",
    "# last column is the label\n",
    "\n",
    "data = {\n",
    "    \"color\" : ['green', 'yellow', 'red', 'red', 'yellow'],\n",
    "    \"diameter\" : [3, 3, 1, 1, 3],\n",
    "    \"label\" : ['mango', 'mango', 'grape', 'grape', 'lemon']\n",
    "}\n",
    "\n",
    "df = pd.DataFrame(data)\n",
    "df"
   ]
  },
  {
   "cell_type": "code",
   "execution_count": null,
   "metadata": {},
   "outputs": [],
   "source": [
    "# gini index - measures impurity used in building decision tree. i.e. mix fruit basket matching with label. \n",
    "# information gain - measuring entropy after the dataset is split. \n",
    "# reduction in variance - split with lower variance is selected as the criteria to split the population\n",
    "# chi square - statistical significance between the differences between sub-nodes and parent nodes"
   ]
  },
  {
   "cell_type": "code",
   "execution_count": null,
   "metadata": {
    "collapsed": true
   },
   "outputs": [],
   "source": [
    "# video 38:20 mark\n",
    "def unique_vals(rows, col):\n",
    "    '''find the unique values for a column in a dataset'''\n",
    "    return set([row[col] for row in rows])\n",
    "\n",
    "def class_counts(rows):\n",
    "    \"\"\"counts the number of each type of example in dataset\"\"\"\n",
    "    counts = {} # a dictionary of label -> count\n",
    "    for row in rows:\n",
    "        # in our dataset format, the label is always the last column\n",
    "        label = row[-1]\n",
    "        if label not in counts:\n",
    "            counts[label] = 0\n",
    "        counts[label] += 1\n",
    "    return counts\n",
    "\n",
    "def is_numeric(value):\n",
    "    '''test if a value is numeric'''\n",
    "    return isinstance(value, int) or isinstance(value, float)\n",
    "\n",
    "class Question:\n",
    "    '''a questioin is used to partition a dataset'''\n",
    "    \n",
    "    def __init__(self, column, value):\n",
    "        self.column = column\n",
    "        self.value = value\n",
    "        \n",
    "    def match(self, example):\n",
    "        # compare the feature value in an example to the\n",
    "        # feature value in this question\n",
    "        val = example[self.column]\n",
    "        if is_numeric(val):\n",
    "            return val >= self.value\n",
    "        else:\n",
    "            return val == self.value\n",
    "        \n",
    "    def __repr__()self:\n",
    "        #this is just a helper method to print\n",
    "        #the question in a readable format\n",
    "        if is_numeric(self.value):\n",
    "            condition = \">=\"\n",
    "        return \"Is %s %s %s\" % (\n",
    "        header[self.column], condition, str(self.value))\n",
    "    \n",
    "def partition(rows, question):\n",
    "    true_rows, false_rows = [], []\n",
    "    for row in rows:\n",
    "        if question.match(row):\n",
    "            true_rows.append(row)\n",
    "        else:\n",
    "            false_rows.append(row)\n",
    "    return true_rows, false_rows\n",
    "\n",
    "def gini(rows):\n",
    "    counts = class_counts(rows)\n",
    "    impurity = 1\n",
    "    for lbl in counts:\n",
    "        prob_of_lbl = cou"
   ]
  }
 ],
 "metadata": {
  "kernelspec": {
   "display_name": "Python 3",
   "language": "python",
   "name": "python3"
  },
  "language_info": {
   "codemirror_mode": {
    "name": "ipython",
    "version": 3
   },
   "file_extension": ".py",
   "mimetype": "text/x-python",
   "name": "python",
   "nbconvert_exporter": "python",
   "pygments_lexer": "ipython3",
   "version": "3.6.3"
  }
 },
 "nbformat": 4,
 "nbformat_minor": 2
}

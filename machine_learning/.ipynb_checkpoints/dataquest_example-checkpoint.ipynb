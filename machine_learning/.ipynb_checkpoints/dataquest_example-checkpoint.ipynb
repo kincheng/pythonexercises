{
 "cells": [
  {
   "cell_type": "code",
   "execution_count": 1,
   "metadata": {
    "collapsed": true
   },
   "outputs": [],
   "source": [
    "# https://www.dataquest.io/blog/sci-kit-learn-tutorial/"
   ]
  },
  {
   "cell_type": "code",
   "execution_count": 17,
   "metadata": {
    "collapsed": true
   },
   "outputs": [],
   "source": [
    "import pandas as pd\n",
    "import seaborn as sns\n",
    "import matplotlib.pyplot as plt\n",
    "%matplotlib inline\n",
    "\n",
    "sns.set(style=\"whitegrid\", color_codes=True) # set the background color of the plot to white\n",
    "sns.set(rc={'figure.figsize':(11.7,8.27)})\n",
    "\n",
    "df = pd.read_csv(\"https://community.watsonanalytics.com/wp-content/uploads/2015/04/WA_Fn-UseC_-Sales-Win-Loss.csv\")"
   ]
  },
  {
   "cell_type": "code",
   "execution_count": 8,
   "metadata": {},
   "outputs": [
    {
     "data": {
      "text/html": [
       "<div>\n",
       "<style scoped>\n",
       "    .dataframe tbody tr th:only-of-type {\n",
       "        vertical-align: middle;\n",
       "    }\n",
       "\n",
       "    .dataframe tbody tr th {\n",
       "        vertical-align: top;\n",
       "    }\n",
       "\n",
       "    .dataframe thead th {\n",
       "        text-align: right;\n",
       "    }\n",
       "</style>\n",
       "<table border=\"1\" class=\"dataframe\">\n",
       "  <thead>\n",
       "    <tr style=\"text-align: right;\">\n",
       "      <th></th>\n",
       "      <th>Opportunity Number</th>\n",
       "      <th>Supplies Subgroup</th>\n",
       "      <th>Supplies Group</th>\n",
       "      <th>Region</th>\n",
       "      <th>Route To Market</th>\n",
       "      <th>Elapsed Days In Sales Stage</th>\n",
       "      <th>Opportunity Result</th>\n",
       "      <th>Sales Stage Change Count</th>\n",
       "      <th>Total Days Identified Through Closing</th>\n",
       "      <th>Total Days Identified Through Qualified</th>\n",
       "      <th>Opportunity Amount USD</th>\n",
       "      <th>Client Size By Revenue</th>\n",
       "      <th>Client Size By Employee Count</th>\n",
       "      <th>Revenue From Client Past Two Years</th>\n",
       "      <th>Competitor Type</th>\n",
       "      <th>Ratio Days Identified To Total Days</th>\n",
       "      <th>Ratio Days Validated To Total Days</th>\n",
       "      <th>Ratio Days Qualified To Total Days</th>\n",
       "      <th>Deal Size Category</th>\n",
       "    </tr>\n",
       "  </thead>\n",
       "  <tbody>\n",
       "    <tr>\n",
       "      <th>0</th>\n",
       "      <td>1641984</td>\n",
       "      <td>Exterior Accessories</td>\n",
       "      <td>Car Accessories</td>\n",
       "      <td>Northwest</td>\n",
       "      <td>Fields Sales</td>\n",
       "      <td>76</td>\n",
       "      <td>Won</td>\n",
       "      <td>13</td>\n",
       "      <td>104</td>\n",
       "      <td>101</td>\n",
       "      <td>0</td>\n",
       "      <td>5</td>\n",
       "      <td>5</td>\n",
       "      <td>0</td>\n",
       "      <td>Unknown</td>\n",
       "      <td>0.69636</td>\n",
       "      <td>0.113985</td>\n",
       "      <td>0.154215</td>\n",
       "      <td>1</td>\n",
       "    </tr>\n",
       "    <tr>\n",
       "      <th>1</th>\n",
       "      <td>1658010</td>\n",
       "      <td>Exterior Accessories</td>\n",
       "      <td>Car Accessories</td>\n",
       "      <td>Pacific</td>\n",
       "      <td>Reseller</td>\n",
       "      <td>63</td>\n",
       "      <td>Loss</td>\n",
       "      <td>2</td>\n",
       "      <td>163</td>\n",
       "      <td>163</td>\n",
       "      <td>0</td>\n",
       "      <td>3</td>\n",
       "      <td>5</td>\n",
       "      <td>0</td>\n",
       "      <td>Unknown</td>\n",
       "      <td>0.00000</td>\n",
       "      <td>1.000000</td>\n",
       "      <td>0.000000</td>\n",
       "      <td>1</td>\n",
       "    </tr>\n",
       "    <tr>\n",
       "      <th>2</th>\n",
       "      <td>1674737</td>\n",
       "      <td>Motorcycle Parts</td>\n",
       "      <td>Performance &amp; Non-auto</td>\n",
       "      <td>Pacific</td>\n",
       "      <td>Reseller</td>\n",
       "      <td>24</td>\n",
       "      <td>Won</td>\n",
       "      <td>7</td>\n",
       "      <td>82</td>\n",
       "      <td>82</td>\n",
       "      <td>7750</td>\n",
       "      <td>1</td>\n",
       "      <td>1</td>\n",
       "      <td>0</td>\n",
       "      <td>Unknown</td>\n",
       "      <td>1.00000</td>\n",
       "      <td>0.000000</td>\n",
       "      <td>0.000000</td>\n",
       "      <td>1</td>\n",
       "    </tr>\n",
       "    <tr>\n",
       "      <th>3</th>\n",
       "      <td>1675224</td>\n",
       "      <td>Shelters &amp; RV</td>\n",
       "      <td>Performance &amp; Non-auto</td>\n",
       "      <td>Midwest</td>\n",
       "      <td>Reseller</td>\n",
       "      <td>16</td>\n",
       "      <td>Loss</td>\n",
       "      <td>5</td>\n",
       "      <td>124</td>\n",
       "      <td>124</td>\n",
       "      <td>0</td>\n",
       "      <td>1</td>\n",
       "      <td>1</td>\n",
       "      <td>0</td>\n",
       "      <td>Known</td>\n",
       "      <td>1.00000</td>\n",
       "      <td>0.000000</td>\n",
       "      <td>0.000000</td>\n",
       "      <td>1</td>\n",
       "    </tr>\n",
       "    <tr>\n",
       "      <th>4</th>\n",
       "      <td>1689785</td>\n",
       "      <td>Exterior Accessories</td>\n",
       "      <td>Car Accessories</td>\n",
       "      <td>Pacific</td>\n",
       "      <td>Reseller</td>\n",
       "      <td>69</td>\n",
       "      <td>Loss</td>\n",
       "      <td>11</td>\n",
       "      <td>91</td>\n",
       "      <td>13</td>\n",
       "      <td>69756</td>\n",
       "      <td>1</td>\n",
       "      <td>1</td>\n",
       "      <td>0</td>\n",
       "      <td>Unknown</td>\n",
       "      <td>0.00000</td>\n",
       "      <td>0.141125</td>\n",
       "      <td>0.000000</td>\n",
       "      <td>4</td>\n",
       "    </tr>\n",
       "  </tbody>\n",
       "</table>\n",
       "</div>"
      ],
      "text/plain": [
       "   Opportunity Number     Supplies Subgroup          Supplies Group  \\\n",
       "0             1641984  Exterior Accessories         Car Accessories   \n",
       "1             1658010  Exterior Accessories         Car Accessories   \n",
       "2             1674737      Motorcycle Parts  Performance & Non-auto   \n",
       "3             1675224         Shelters & RV  Performance & Non-auto   \n",
       "4             1689785  Exterior Accessories         Car Accessories   \n",
       "\n",
       "      Region Route To Market  Elapsed Days In Sales Stage Opportunity Result  \\\n",
       "0  Northwest    Fields Sales                           76                Won   \n",
       "1    Pacific        Reseller                           63               Loss   \n",
       "2    Pacific        Reseller                           24                Won   \n",
       "3    Midwest        Reseller                           16               Loss   \n",
       "4    Pacific        Reseller                           69               Loss   \n",
       "\n",
       "   Sales Stage Change Count  Total Days Identified Through Closing  \\\n",
       "0                        13                                    104   \n",
       "1                         2                                    163   \n",
       "2                         7                                     82   \n",
       "3                         5                                    124   \n",
       "4                        11                                     91   \n",
       "\n",
       "   Total Days Identified Through Qualified  Opportunity Amount USD  \\\n",
       "0                                      101                       0   \n",
       "1                                      163                       0   \n",
       "2                                       82                    7750   \n",
       "3                                      124                       0   \n",
       "4                                       13                   69756   \n",
       "\n",
       "   Client Size By Revenue  Client Size By Employee Count  \\\n",
       "0                       5                              5   \n",
       "1                       3                              5   \n",
       "2                       1                              1   \n",
       "3                       1                              1   \n",
       "4                       1                              1   \n",
       "\n",
       "   Revenue From Client Past Two Years Competitor Type  \\\n",
       "0                                   0         Unknown   \n",
       "1                                   0         Unknown   \n",
       "2                                   0         Unknown   \n",
       "3                                   0           Known   \n",
       "4                                   0         Unknown   \n",
       "\n",
       "   Ratio Days Identified To Total Days  Ratio Days Validated To Total Days  \\\n",
       "0                              0.69636                            0.113985   \n",
       "1                              0.00000                            1.000000   \n",
       "2                              1.00000                            0.000000   \n",
       "3                              1.00000                            0.000000   \n",
       "4                              0.00000                            0.141125   \n",
       "\n",
       "   Ratio Days Qualified To Total Days  Deal Size Category  \n",
       "0                            0.154215                   1  \n",
       "1                            0.000000                   1  \n",
       "2                            0.000000                   1  \n",
       "3                            0.000000                   1  \n",
       "4                            0.000000                   4  "
      ]
     },
     "execution_count": 8,
     "metadata": {},
     "output_type": "execute_result"
    }
   ],
   "source": [
    "df.head()"
   ]
  },
  {
   "cell_type": "code",
   "execution_count": 6,
   "metadata": {},
   "outputs": [
    {
     "data": {
      "text/plain": [
       "(78025, 19)"
      ]
     },
     "execution_count": 6,
     "metadata": {},
     "output_type": "execute_result"
    }
   ],
   "source": [
    "df.shape"
   ]
  },
  {
   "cell_type": "code",
   "execution_count": 10,
   "metadata": {},
   "outputs": [
    {
     "data": {
      "text/plain": [
       "Opportunity Number                           int64\n",
       "Supplies Subgroup                           object\n",
       "Supplies Group                              object\n",
       "Region                                      object\n",
       "Route To Market                             object\n",
       "Elapsed Days In Sales Stage                  int64\n",
       "Opportunity Result                          object\n",
       "Sales Stage Change Count                     int64\n",
       "Total Days Identified Through Closing        int64\n",
       "Total Days Identified Through Qualified      int64\n",
       "Opportunity Amount USD                       int64\n",
       "Client Size By Revenue                       int64\n",
       "Client Size By Employee Count                int64\n",
       "Revenue From Client Past Two Years           int64\n",
       "Competitor Type                             object\n",
       "Ratio Days Identified To Total Days        float64\n",
       "Ratio Days Validated To Total Days         float64\n",
       "Ratio Days Qualified To Total Days         float64\n",
       "Deal Size Category                           int64\n",
       "dtype: object"
      ]
     },
     "execution_count": 10,
     "metadata": {},
     "output_type": "execute_result"
    }
   ],
   "source": [
    "df.dtypes"
   ]
  },
  {
   "cell_type": "code",
   "execution_count": 18,
   "metadata": {},
   "outputs": [
    {
     "name": "stderr",
     "output_type": "stream",
     "text": [
      "C:\\Users\\Kin Cheng\\Anaconda3\\lib\\site-packages\\seaborn\\categorical.py:1508: FutureWarning: remove_na is deprecated and is a private function. Do not use.\n",
      "  stat_data = remove_na(group_data[hue_mask])\n"
     ]
    },
    {
     "data": {
      "text/plain": [
       "<matplotlib.axes._subplots.AxesSubplot at 0x285655a5748>"
      ]
     },
     "execution_count": 18,
     "metadata": {},
     "output_type": "execute_result"
    },
    {
     "data": {
      "image/png": "[encoded data removed]",
      "text/plain": [
       "<matplotlib.figure.Figure at 0x285654e5128>"
      ]
     },
     "metadata": {},
     "output_type": "display_data"
    }
   ],
   "source": [
    "sns.countplot(\"Route To Market\", data=df, hue='Opportunity Result')"
   ]
  },
  {
   "cell_type": "code",
   "execution_count": 22,
   "metadata": {},
   "outputs": [
    {
     "data": {
      "text/plain": [
       "array([0, 0, 1, 1], dtype=int64)"
      ]
     },
     "execution_count": 22,
     "metadata": {},
     "output_type": "execute_result"
    }
   ],
   "source": [
    "from sklearn import preprocessing\n",
    "le = preprocessing.LabelEncoder()\n",
    "le.fit_transform(['Paris', 'Paris', 'Tokyo', 'Tokyo'])"
   ]
  },
  {
   "cell_type": "code",
   "execution_count": 27,
   "metadata": {},
   "outputs": [
    {
     "name": "stdout",
     "output_type": "stream",
     "text": [
      "Supplies Subgroup :  ['Exterior Accessories' 'Motorcycle Parts' 'Shelters & RV'\n",
      " 'Garage & Car Care' 'Batteries & Accessories' 'Performance Parts'\n",
      " 'Towing & Hitches' 'Replacement Parts' 'Tires & Wheels'\n",
      " 'Interior Accessories' 'Car Electronics']\n"
     ]
    }
   ],
   "source": [
    "print('Supplies Subgroup : ', df['Supplies Subgroup'].unique())"
   ]
  },
  {
   "cell_type": "code",
   "execution_count": 32,
   "metadata": {},
   "outputs": [],
   "source": [
    "df['Supplies Subgroup'] = le.fit_transform(df['Supplies Subgroup'])\n",
    "df['Region'] = le.fit_transform(df['Region'])\n",
    "df['Route To Market'] = le.fit_transform(df['Route To Market'])\n",
    "df['Opportunity Result'] = le.fit_transform(df['Opportunity Result'])\n",
    "df['Competitor Type'] = le.fit_transform(df['Competitor Type'])\n",
    "df['Supplies Group'] = le.fit_transform(df['Supplies Group'])"
   ]
  },
  {
   "cell_type": "code",
   "execution_count": 33,
   "metadata": {},
   "outputs": [
    {
     "data": {
      "text/html": [
       "<div>\n",
       "<style scoped>\n",
       "    .dataframe tbody tr th:only-of-type {\n",
       "        vertical-align: middle;\n",
       "    }\n",
       "\n",
       "    .dataframe tbody tr th {\n",
       "        vertical-align: top;\n",
       "    }\n",
       "\n",
       "    .dataframe thead th {\n",
       "        text-align: right;\n",
       "    }\n",
       "</style>\n",
       "<table border=\"1\" class=\"dataframe\">\n",
       "  <thead>\n",
       "    <tr style=\"text-align: right;\">\n",
       "      <th></th>\n",
       "      <th>Opportunity Number</th>\n",
       "      <th>Supplies Subgroup</th>\n",
       "      <th>Supplies Group</th>\n",
       "      <th>Region</th>\n",
       "      <th>Route To Market</th>\n",
       "      <th>Elapsed Days In Sales Stage</th>\n",
       "      <th>Opportunity Result</th>\n",
       "      <th>Sales Stage Change Count</th>\n",
       "      <th>Total Days Identified Through Closing</th>\n",
       "      <th>Total Days Identified Through Qualified</th>\n",
       "      <th>Opportunity Amount USD</th>\n",
       "      <th>Client Size By Revenue</th>\n",
       "      <th>Client Size By Employee Count</th>\n",
       "      <th>Revenue From Client Past Two Years</th>\n",
       "      <th>Competitor Type</th>\n",
       "      <th>Ratio Days Identified To Total Days</th>\n",
       "      <th>Ratio Days Validated To Total Days</th>\n",
       "      <th>Ratio Days Qualified To Total Days</th>\n",
       "      <th>Deal Size Category</th>\n",
       "    </tr>\n",
       "  </thead>\n",
       "  <tbody>\n",
       "    <tr>\n",
       "      <th>0</th>\n",
       "      <td>1641984</td>\n",
       "      <td>2</td>\n",
       "      <td>0</td>\n",
       "      <td>3</td>\n",
       "      <td>0</td>\n",
       "      <td>76</td>\n",
       "      <td>1</td>\n",
       "      <td>13</td>\n",
       "      <td>104</td>\n",
       "      <td>101</td>\n",
       "      <td>0</td>\n",
       "      <td>5</td>\n",
       "      <td>5</td>\n",
       "      <td>0</td>\n",
       "      <td>2</td>\n",
       "      <td>0.69636</td>\n",
       "      <td>0.113985</td>\n",
       "      <td>0.154215</td>\n",
       "      <td>1</td>\n",
       "    </tr>\n",
       "    <tr>\n",
       "      <th>1</th>\n",
       "      <td>1658010</td>\n",
       "      <td>2</td>\n",
       "      <td>0</td>\n",
       "      <td>4</td>\n",
       "      <td>2</td>\n",
       "      <td>63</td>\n",
       "      <td>0</td>\n",
       "      <td>2</td>\n",
       "      <td>163</td>\n",
       "      <td>163</td>\n",
       "      <td>0</td>\n",
       "      <td>3</td>\n",
       "      <td>5</td>\n",
       "      <td>0</td>\n",
       "      <td>2</td>\n",
       "      <td>0.00000</td>\n",
       "      <td>1.000000</td>\n",
       "      <td>0.000000</td>\n",
       "      <td>1</td>\n",
       "    </tr>\n",
       "    <tr>\n",
       "      <th>2</th>\n",
       "      <td>1674737</td>\n",
       "      <td>5</td>\n",
       "      <td>2</td>\n",
       "      <td>4</td>\n",
       "      <td>2</td>\n",
       "      <td>24</td>\n",
       "      <td>1</td>\n",
       "      <td>7</td>\n",
       "      <td>82</td>\n",
       "      <td>82</td>\n",
       "      <td>7750</td>\n",
       "      <td>1</td>\n",
       "      <td>1</td>\n",
       "      <td>0</td>\n",
       "      <td>2</td>\n",
       "      <td>1.00000</td>\n",
       "      <td>0.000000</td>\n",
       "      <td>0.000000</td>\n",
       "      <td>1</td>\n",
       "    </tr>\n",
       "    <tr>\n",
       "      <th>3</th>\n",
       "      <td>1675224</td>\n",
       "      <td>8</td>\n",
       "      <td>2</td>\n",
       "      <td>1</td>\n",
       "      <td>2</td>\n",
       "      <td>16</td>\n",
       "      <td>0</td>\n",
       "      <td>5</td>\n",
       "      <td>124</td>\n",
       "      <td>124</td>\n",
       "      <td>0</td>\n",
       "      <td>1</td>\n",
       "      <td>1</td>\n",
       "      <td>0</td>\n",
       "      <td>0</td>\n",
       "      <td>1.00000</td>\n",
       "      <td>0.000000</td>\n",
       "      <td>0.000000</td>\n",
       "      <td>1</td>\n",
       "    </tr>\n",
       "    <tr>\n",
       "      <th>4</th>\n",
       "      <td>1689785</td>\n",
       "      <td>2</td>\n",
       "      <td>0</td>\n",
       "      <td>4</td>\n",
       "      <td>2</td>\n",
       "      <td>69</td>\n",
       "      <td>0</td>\n",
       "      <td>11</td>\n",
       "      <td>91</td>\n",
       "      <td>13</td>\n",
       "      <td>69756</td>\n",
       "      <td>1</td>\n",
       "      <td>1</td>\n",
       "      <td>0</td>\n",
       "      <td>2</td>\n",
       "      <td>0.00000</td>\n",
       "      <td>0.141125</td>\n",
       "      <td>0.000000</td>\n",
       "      <td>4</td>\n",
       "    </tr>\n",
       "  </tbody>\n",
       "</table>\n",
       "</div>"
      ],
      "text/plain": [
       "   Opportunity Number  Supplies Subgroup  Supplies Group  Region  \\\n",
       "0             1641984                  2               0       3   \n",
       "1             1658010                  2               0       4   \n",
       "2             1674737                  5               2       4   \n",
       "3             1675224                  8               2       1   \n",
       "4             1689785                  2               0       4   \n",
       "\n",
       "   Route To Market  Elapsed Days In Sales Stage  Opportunity Result  \\\n",
       "0                0                           76                   1   \n",
       "1                2                           63                   0   \n",
       "2                2                           24                   1   \n",
       "3                2                           16                   0   \n",
       "4                2                           69                   0   \n",
       "\n",
       "   Sales Stage Change Count  Total Days Identified Through Closing  \\\n",
       "0                        13                                    104   \n",
       "1                         2                                    163   \n",
       "2                         7                                     82   \n",
       "3                         5                                    124   \n",
       "4                        11                                     91   \n",
       "\n",
       "   Total Days Identified Through Qualified  Opportunity Amount USD  \\\n",
       "0                                      101                       0   \n",
       "1                                      163                       0   \n",
       "2                                       82                    7750   \n",
       "3                                      124                       0   \n",
       "4                                       13                   69756   \n",
       "\n",
       "   Client Size By Revenue  Client Size By Employee Count  \\\n",
       "0                       5                              5   \n",
       "1                       3                              5   \n",
       "2                       1                              1   \n",
       "3                       1                              1   \n",
       "4                       1                              1   \n",
       "\n",
       "   Revenue From Client Past Two Years  Competitor Type  \\\n",
       "0                                   0                2   \n",
       "1                                   0                2   \n",
       "2                                   0                2   \n",
       "3                                   0                0   \n",
       "4                                   0                2   \n",
       "\n",
       "   Ratio Days Identified To Total Days  Ratio Days Validated To Total Days  \\\n",
       "0                              0.69636                            0.113985   \n",
       "1                              0.00000                            1.000000   \n",
       "2                              1.00000                            0.000000   \n",
       "3                              1.00000                            0.000000   \n",
       "4                              0.00000                            0.141125   \n",
       "\n",
       "   Ratio Days Qualified To Total Days  Deal Size Category  \n",
       "0                            0.154215                   1  \n",
       "1                            0.000000                   1  \n",
       "2                            0.000000                   1  \n",
       "3                            0.000000                   1  \n",
       "4                            0.000000                   4  "
      ]
     },
     "execution_count": 33,
     "metadata": {},
     "output_type": "execute_result"
    }
   ],
   "source": [
    "df.head()"
   ]
  },
  {
   "cell_type": "code",
   "execution_count": 46,
   "metadata": {},
   "outputs": [],
   "source": [
    "from sklearn.model_selection import train_test_split\n",
    "\n",
    "X_train, X_test, y_train, y_test = train_test_split(df.drop(['Opportunity Result', 'Opportunity Number'], axis=1), \n",
    "                                                    df['Opportunity Result'], \n",
    "                                                    test_size=0.3,\n",
    "                                                   random_state=10)"
   ]
  },
  {
   "cell_type": "code",
   "execution_count": 54,
   "metadata": {},
   "outputs": [
    {
     "name": "stdout",
     "output_type": "stream",
     "text": [
      "Naive-Bayes accuracy:  0.7590567327409433\n"
     ]
    }
   ],
   "source": [
    "from sklearn.naive_bayes import GaussianNB\n",
    "from sklearn.metrics import accuracy_score\n",
    "\n",
    "gnb = GaussianNB()\n",
    "\n",
    "pred = gnb.fit(X_train, y_train).predict(X_test)\n",
    "print(\"Naive-Bayes accuracy: \", accuracy_score(y_test, pred, normalize=True))"
   ]
  },
  {
   "cell_type": "code",
   "execution_count": 58,
   "metadata": {
    "collapsed": true
   },
   "outputs": [],
   "source": [
    "# SVM\n",
    "\n",
    "from sklearn.svm import LinearSVC\n",
    "from sklearn.metrics import accuracy_score\n",
    "\n",
    "svc_model = LinearSVC(random_state=0)\n",
    "pred = svc_model.fit(X_train, y_train).predict(X_test)"
   ]
  },
  {
   "cell_type": "code",
   "execution_count": 61,
   "metadata": {},
   "outputs": [
    {
     "name": "stdout",
     "output_type": "stream",
     "text": [
      "SVC score : 0.777811004784689\n"
     ]
    }
   ],
   "source": [
    "print(\"SVC score :\", accuracy_score(y_test, pred, normalize=True))"
   ]
  },
  {
   "cell_type": "code",
   "execution_count": 69,
   "metadata": {},
   "outputs": [
    {
     "data": {
      "text/plain": [
       "0.8107057416267942"
      ]
     },
     "execution_count": 69,
     "metadata": {},
     "output_type": "execute_result"
    }
   ],
   "source": [
    "from sklearn.neighbors import KNeighborsClassifier\n",
    "from sklearn.metrics import accuracy_score\n",
    "\n",
    "knn = KNeighborsClassifier(n_neighbors=10)\n",
    "knn.fit(X_train, y_train)\n",
    "pred = knn.predict(X_test)\n",
    "accuracy_score(y_test, pred)"
   ]
  },
  {
   "cell_type": "code",
   "execution_count": 70,
   "metadata": {},
   "outputs": [
    {
     "ename": "ModuleNotFoundError",
     "evalue": "No module named 'yellowbrick'",
     "output_type": "error",
     "traceback": [
      "\u001b[1;31m---------------------------------------------------------------------------\u001b[0m",
      "\u001b[1;31mModuleNotFoundError\u001b[0m                       Traceback (most recent call last)",
      "\u001b[1;32m<ipython-input-70-ef03bbb32ca2>\u001b[0m in \u001b[0;36m<module>\u001b[1;34m()\u001b[0m\n\u001b[1;32m----> 1\u001b[1;33m \u001b[1;32mfrom\u001b[0m \u001b[0myellowbrick\u001b[0m\u001b[1;33m.\u001b[0m\u001b[0mclassifier\u001b[0m \u001b[1;32mimport\u001b[0m \u001b[0mClassificationReport\u001b[0m\u001b[1;33m\u001b[0m\u001b[0m\n\u001b[0m",
      "\u001b[1;31mModuleNotFoundError\u001b[0m: No module named 'yellowbrick'"
     ]
    }
   ],
   "source": [
    "from yellowbrick.classifier import ClassificationReport"
   ]
  },
  {
   "cell_type": "code",
   "execution_count": 72,
   "metadata": {},
   "outputs": [
    {
     "data": {
      "text/plain": [
       "0.8680365686944634"
      ]
     },
     "execution_count": 72,
     "metadata": {},
     "output_type": "execute_result"
    }
   ],
   "source": [
    "from sklearn.ensemble import RandomForestClassifier\n",
    "\n",
    "rfc = RandomForestClassifier()\n",
    "rfc.fit(X_train, y_train)\n",
    "pred = rfc.predict(X_test)\n",
    "accuracy_score(y_test, pred)"
   ]
  },
  {
   "cell_type": "code",
   "execution_count": 74,
   "metadata": {},
   "outputs": [
    {
     "data": {
      "text/plain": [
       "0.8260850991114149"
      ]
     },
     "execution_count": 74,
     "metadata": {},
     "output_type": "execute_result"
    }
   ],
   "source": [
    "from sklearn.tree import DecisionTreeClassifier\n",
    "\n",
    "dtc = DecisionTreeClassifier()\n",
    "dtc.fit(X_train, y_train)\n",
    "pred = dtc.predict(X_test)\n",
    "accuracy_score(y_test, pred)"
   ]
  },
  {
   "cell_type": "code",
   "execution_count": null,
   "metadata": {
    "collapsed": true
   },
   "outputs": [],
   "source": []
  }
 ],
 "metadata": {
  "kernelspec": {
   "display_name": "Python 3",
   "language": "python",
   "name": "python3"
  },
  "language_info": {
   "codemirror_mode": {
    "name": "ipython",
    "version": 3
   },
   "file_extension": ".py",
   "mimetype": "text/x-python",
   "name": "python",
   "nbconvert_exporter": "python",
   "pygments_lexer": "ipython3",
   "version": "3.6.3"
  }
 },
 "nbformat": 4,
 "nbformat_minor": 2
}

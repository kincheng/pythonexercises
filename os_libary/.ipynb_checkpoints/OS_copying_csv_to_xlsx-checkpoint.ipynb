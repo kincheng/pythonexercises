{
 "cells": [
  {
   "cell_type": "code",
   "execution_count": 64,
   "metadata": {
    "collapsed": true
   },
   "outputs": [],
   "source": [
    "import os\n",
    "import pandas as pd"
   ]
  },
  {
   "cell_type": "code",
   "execution_count": 66,
   "metadata": {},
   "outputs": [],
   "source": [
    "# creates a list of files in the directory\n",
    "fileNamesCSV = os.listdir('C:\\\\Users\\\\Kin Cheng\\\\Desktop\\\\pythonwork\\\\os_libary\\\\files\\\\')\n",
    "\n",
    "# replaces \"csv\" with \"xlsx, thus converting the names from csv to xlsx\n",
    "fileNamesXLSX = [x.replace('csv','xlsx') for x in fileNamesCSV]"
   ]
  },
  {
   "cell_type": "code",
   "execution_count": 81,
   "metadata": {},
   "outputs": [],
   "source": [
    "# starting index position at 0\n",
    "indexPosition = 0\n",
    "\n",
    "# for each item in the directory, reads the CSV files and copies them to a xlsx\n",
    "for names in fileNamesCSV:\n",
    "    if not os.path.isfile(os.path.join('C:\\\\Users\\\\Kin Cheng\\\\Desktop\\\\pythonwork\\\\os_libary\\\\files\\\\' ,names)):\n",
    "        continue\n",
    "    df = pd.read_csv('C:\\\\Users\\\\Kin Cheng\\\\Desktop\\\\pythonwork\\\\os_libary\\\\files\\\\' + names)\n",
    "    df.to_excel('C:\\\\Users\\\\Kin Cheng\\\\Desktop\\\\pythonwork\\\\os_libary\\\\files\\\\' + fileNamesXLSX[indexPosition])\n",
    "    indexPosition += 1 # increases index by 1 to increment fileNamesXLSX by 1"
   ]
  },
  {
   "cell_type": "code",
   "execution_count": null,
   "metadata": {
    "collapsed": true
   },
   "outputs": [],
   "source": [
    "# adds up the total size of the directory\n",
    "totalSize = 0\n",
    "for names in fileNames:\n",
    "    if not os.path.isfile(os.path.join('C:\\\\Users\\\\Kin Cheng\\\\Desktop\\\\pythonwork\\\\os_libary\\\\files\\\\' ,names)):\n",
    "        continue\n",
    "    print(totalSize)\n",
    "    totalSize = totalSize + os.path.getsize('C:\\\\Users\\\\Kin Cheng\\\\Desktop\\\\pythonwork\\\\os_libary\\\\files\\\\' + names)"
   ]
  }
 ],
 "metadata": {
  "kernelspec": {
   "display_name": "Python 3",
   "language": "python",
   "name": "python3"
  },
  "language_info": {
   "codemirror_mode": {
    "name": "ipython",
    "version": 3
   },
   "file_extension": ".py",
   "mimetype": "text/x-python",
   "name": "python",
   "nbconvert_exporter": "python",
   "pygments_lexer": "ipython3",
   "version": "3.6.3"
  }
 },
 "nbformat": 4,
 "nbformat_minor": 2
}

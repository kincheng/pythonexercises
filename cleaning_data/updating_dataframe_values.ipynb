{
 "cells": [
  {
   "cell_type": "code",
   "execution_count": 84,
   "metadata": {
    "collapsed": true
   },
   "outputs": [],
   "source": [
    "import pandas as pd"
   ]
  },
  {
   "cell_type": "code",
   "execution_count": 93,
   "metadata": {
    "collapsed": true
   },
   "outputs": [],
   "source": [
    "data = {\n",
    "    'name' : ['Mr Al Smith', 'Mrs. Brian Daw', 'Chris Phil Jr', 'Mrs David Wu Jr', 'Mr Ed She'],\n",
    "    'salary' : ['1000', '3000', '4000', '2000' ,'6000'],\n",
    "    'Age' : [15, 53, 23, 21, 63]\n",
    "}\n",
    "\n",
    "df = pd.DataFrame(data)"
   ]
  },
  {
   "cell_type": "code",
   "execution_count": 98,
   "metadata": {},
   "outputs": [],
   "source": [
    "text_to_remove = ['mr', 'mrs', 'jr', 'mr.', 'mrs.', 'jr.']\n",
    "clean_names = []\n",
    "for name in df['name']:\n",
    "    full_name = \"\"\n",
    "    for word in name.split():\n",
    "        if word.lower() not in text_to_remove:\n",
    "            full_name += word + \" \"\n",
    "    clean_names.append(full_name.strip())\n",
    "    \n",
    "df['cleaned_names'] = clean_names"
   ]
  },
  {
   "cell_type": "code",
   "execution_count": 99,
   "metadata": {},
   "outputs": [
    {
     "data": {
      "text/html": [
       "<div>\n",
       "<style scoped>\n",
       "    .dataframe tbody tr th:only-of-type {\n",
       "        vertical-align: middle;\n",
       "    }\n",
       "\n",
       "    .dataframe tbody tr th {\n",
       "        vertical-align: top;\n",
       "    }\n",
       "\n",
       "    .dataframe thead th {\n",
       "        text-align: right;\n",
       "    }\n",
       "</style>\n",
       "<table border=\"1\" class=\"dataframe\">\n",
       "  <thead>\n",
       "    <tr style=\"text-align: right;\">\n",
       "      <th></th>\n",
       "      <th>Age</th>\n",
       "      <th>name</th>\n",
       "      <th>salary</th>\n",
       "      <th>cleaned_names</th>\n",
       "    </tr>\n",
       "  </thead>\n",
       "  <tbody>\n",
       "    <tr>\n",
       "      <th>0</th>\n",
       "      <td>15</td>\n",
       "      <td>Mr Al Smith</td>\n",
       "      <td>1000</td>\n",
       "      <td>Al Smith</td>\n",
       "    </tr>\n",
       "    <tr>\n",
       "      <th>1</th>\n",
       "      <td>53</td>\n",
       "      <td>Mrs. Brian Daw</td>\n",
       "      <td>3000</td>\n",
       "      <td>Brian Daw</td>\n",
       "    </tr>\n",
       "    <tr>\n",
       "      <th>2</th>\n",
       "      <td>23</td>\n",
       "      <td>Chris Phil Jr</td>\n",
       "      <td>4000</td>\n",
       "      <td>Chris Phil</td>\n",
       "    </tr>\n",
       "    <tr>\n",
       "      <th>3</th>\n",
       "      <td>21</td>\n",
       "      <td>Mrs David Wu Jr</td>\n",
       "      <td>2000</td>\n",
       "      <td>David Wu</td>\n",
       "    </tr>\n",
       "    <tr>\n",
       "      <th>4</th>\n",
       "      <td>63</td>\n",
       "      <td>Mr Ed She</td>\n",
       "      <td>6000</td>\n",
       "      <td>Ed She</td>\n",
       "    </tr>\n",
       "  </tbody>\n",
       "</table>\n",
       "</div>"
      ],
      "text/plain": [
       "   Age             name salary cleaned_names\n",
       "0   15      Mr Al Smith   1000      Al Smith\n",
       "1   53   Mrs. Brian Daw   3000     Brian Daw\n",
       "2   23    Chris Phil Jr   4000    Chris Phil\n",
       "3   21  Mrs David Wu Jr   2000      David Wu\n",
       "4   63        Mr Ed She   6000        Ed She"
      ]
     },
     "execution_count": 99,
     "metadata": {},
     "output_type": "execute_result"
    }
   ],
   "source": [
    "df"
   ]
  },
  {
   "cell_type": "code",
   "execution_count": null,
   "metadata": {
    "collapsed": true
   },
   "outputs": [],
   "source": []
  }
 ],
 "metadata": {
  "kernelspec": {
   "display_name": "Python 3",
   "language": "python",
   "name": "python3"
  },
  "language_info": {
   "codemirror_mode": {
    "name": "ipython",
    "version": 3
   },
   "file_extension": ".py",
   "mimetype": "text/x-python",
   "name": "python",
   "nbconvert_exporter": "python",
   "pygments_lexer": "ipython3",
   "version": "3.6.3"
  }
 },
 "nbformat": 4,
 "nbformat_minor": 2
}
